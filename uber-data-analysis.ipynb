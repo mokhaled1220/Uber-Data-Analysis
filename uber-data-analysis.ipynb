{
 "cells": [
  {
   "cell_type": "code",
   "execution_count": 1,
   "id": "6398bfe1",
   "metadata": {
    "_cell_guid": "b1076dfc-b9ad-4769-8c92-a6c4dae69d19",
    "_uuid": "8f2839f25d086af736a60e9eeb907d3b93b6e0e5",
    "execution": {
     "iopub.execute_input": "2024-02-12T12:59:03.700503Z",
     "iopub.status.busy": "2024-02-12T12:59:03.700017Z",
     "iopub.status.idle": "2024-02-12T12:59:05.625688Z",
     "shell.execute_reply": "2024-02-12T12:59:05.624781Z"
    },
    "papermill": {
     "duration": 1.935694,
     "end_time": "2024-02-12T12:59:05.627578",
     "exception": false,
     "start_time": "2024-02-12T12:59:03.691884",
     "status": "completed"
    },
    "tags": []
   },
   "outputs": [
    {
     "name": "stdout",
     "output_type": "stream",
     "text": [
      "/kaggle/input/uber-request-data/Uber Request Data.csv\n"
     ]
    }
   ],
   "source": [
    "import numpy as np\n",
    "import pandas as pd\n",
    "import matplotlib.pyplot as plt\n",
    "import seaborn as sns\n",
    "\n",
    "import os\n",
    "for dirname, _, filenames in os.walk('/kaggle/input'):\n",
    "    for filename in filenames:\n",
    "        print(os.path.join(dirname, filename))"
   ]
  },
  {
   "cell_type": "code",
   "execution_count": 2,
   "id": "c560f784",
   "metadata": {
    "execution": {
     "iopub.execute_input": "2024-02-12T12:59:05.642334Z",
     "iopub.status.busy": "2024-02-12T12:59:05.641826Z",
     "iopub.status.idle": "2024-02-12T12:59:05.684352Z",
     "shell.execute_reply": "2024-02-12T12:59:05.683496Z"
    },
    "papermill": {
     "duration": 0.051912,
     "end_time": "2024-02-12T12:59:05.686562",
     "exception": false,
     "start_time": "2024-02-12T12:59:05.634650",
     "status": "completed"
    },
    "tags": []
   },
   "outputs": [],
   "source": [
    "df=pd.read_csv(\"/kaggle/input/uber-request-data/Uber Request Data.csv\")"
   ]
  },
  {
   "cell_type": "code",
   "execution_count": 3,
   "id": "b61450be",
   "metadata": {
    "execution": {
     "iopub.execute_input": "2024-02-12T12:59:05.699993Z",
     "iopub.status.busy": "2024-02-12T12:59:05.699712Z",
     "iopub.status.idle": "2024-02-12T12:59:05.705759Z",
     "shell.execute_reply": "2024-02-12T12:59:05.704947Z"
    },
    "papermill": {
     "duration": 0.015422,
     "end_time": "2024-02-12T12:59:05.708225",
     "exception": false,
     "start_time": "2024-02-12T12:59:05.692803",
     "status": "completed"
    },
    "tags": []
   },
   "outputs": [
    {
     "data": {
      "text/plain": [
       "(6745, 6)"
      ]
     },
     "execution_count": 3,
     "metadata": {},
     "output_type": "execute_result"
    }
   ],
   "source": [
    "df.shape"
   ]
  },
  {
   "cell_type": "code",
   "execution_count": 4,
   "id": "3d1b24df",
   "metadata": {
    "execution": {
     "iopub.execute_input": "2024-02-12T12:59:05.722616Z",
     "iopub.status.busy": "2024-02-12T12:59:05.722038Z",
     "iopub.status.idle": "2024-02-12T12:59:05.736870Z",
     "shell.execute_reply": "2024-02-12T12:59:05.736046Z"
    },
    "papermill": {
     "duration": 0.023832,
     "end_time": "2024-02-12T12:59:05.738534",
     "exception": false,
     "start_time": "2024-02-12T12:59:05.714702",
     "status": "completed"
    },
    "tags": []
   },
   "outputs": [
    {
     "data": {
      "text/html": [
       "<div>\n",
       "<style scoped>\n",
       "    .dataframe tbody tr th:only-of-type {\n",
       "        vertical-align: middle;\n",
       "    }\n",
       "\n",
       "    .dataframe tbody tr th {\n",
       "        vertical-align: top;\n",
       "    }\n",
       "\n",
       "    .dataframe thead th {\n",
       "        text-align: right;\n",
       "    }\n",
       "</style>\n",
       "<table border=\"1\" class=\"dataframe\">\n",
       "  <thead>\n",
       "    <tr style=\"text-align: right;\">\n",
       "      <th></th>\n",
       "      <th>Request id</th>\n",
       "      <th>Pickup point</th>\n",
       "      <th>Driver id</th>\n",
       "      <th>Status</th>\n",
       "      <th>Request timestamp</th>\n",
       "      <th>Drop timestamp</th>\n",
       "    </tr>\n",
       "  </thead>\n",
       "  <tbody>\n",
       "    <tr>\n",
       "      <th>0</th>\n",
       "      <td>619</td>\n",
       "      <td>Airport</td>\n",
       "      <td>1.0</td>\n",
       "      <td>Trip Completed</td>\n",
       "      <td>11/7/2016 11:51</td>\n",
       "      <td>11/7/2016 13:00</td>\n",
       "    </tr>\n",
       "    <tr>\n",
       "      <th>1</th>\n",
       "      <td>867</td>\n",
       "      <td>Airport</td>\n",
       "      <td>1.0</td>\n",
       "      <td>Trip Completed</td>\n",
       "      <td>11/7/2016 17:57</td>\n",
       "      <td>11/7/2016 18:47</td>\n",
       "    </tr>\n",
       "    <tr>\n",
       "      <th>2</th>\n",
       "      <td>1807</td>\n",
       "      <td>City</td>\n",
       "      <td>1.0</td>\n",
       "      <td>Trip Completed</td>\n",
       "      <td>12/7/2016 9:17</td>\n",
       "      <td>12/7/2016 9:58</td>\n",
       "    </tr>\n",
       "    <tr>\n",
       "      <th>3</th>\n",
       "      <td>2532</td>\n",
       "      <td>Airport</td>\n",
       "      <td>1.0</td>\n",
       "      <td>Trip Completed</td>\n",
       "      <td>12/7/2016 21:08</td>\n",
       "      <td>12/7/2016 22:03</td>\n",
       "    </tr>\n",
       "    <tr>\n",
       "      <th>4</th>\n",
       "      <td>3112</td>\n",
       "      <td>City</td>\n",
       "      <td>1.0</td>\n",
       "      <td>Trip Completed</td>\n",
       "      <td>13-07-2016 08:33:16</td>\n",
       "      <td>13-07-2016 09:25:47</td>\n",
       "    </tr>\n",
       "  </tbody>\n",
       "</table>\n",
       "</div>"
      ],
      "text/plain": [
       "   Request id Pickup point  Driver id          Status    Request timestamp  \\\n",
       "0         619      Airport        1.0  Trip Completed      11/7/2016 11:51   \n",
       "1         867      Airport        1.0  Trip Completed      11/7/2016 17:57   \n",
       "2        1807         City        1.0  Trip Completed       12/7/2016 9:17   \n",
       "3        2532      Airport        1.0  Trip Completed      12/7/2016 21:08   \n",
       "4        3112         City        1.0  Trip Completed  13-07-2016 08:33:16   \n",
       "\n",
       "        Drop timestamp  \n",
       "0      11/7/2016 13:00  \n",
       "1      11/7/2016 18:47  \n",
       "2       12/7/2016 9:58  \n",
       "3      12/7/2016 22:03  \n",
       "4  13-07-2016 09:25:47  "
      ]
     },
     "execution_count": 4,
     "metadata": {},
     "output_type": "execute_result"
    }
   ],
   "source": [
    "df.head()"
   ]
  },
  {
   "cell_type": "code",
   "execution_count": 5,
   "id": "06b8d857",
   "metadata": {
    "execution": {
     "iopub.execute_input": "2024-02-12T12:59:05.752503Z",
     "iopub.status.busy": "2024-02-12T12:59:05.752146Z",
     "iopub.status.idle": "2024-02-12T12:59:05.776170Z",
     "shell.execute_reply": "2024-02-12T12:59:05.774639Z"
    },
    "papermill": {
     "duration": 0.03329,
     "end_time": "2024-02-12T12:59:05.778163",
     "exception": false,
     "start_time": "2024-02-12T12:59:05.744873",
     "status": "completed"
    },
    "tags": []
   },
   "outputs": [
    {
     "name": "stdout",
     "output_type": "stream",
     "text": [
      "<class 'pandas.core.frame.DataFrame'>\n",
      "RangeIndex: 6745 entries, 0 to 6744\n",
      "Data columns (total 6 columns):\n",
      " #   Column             Non-Null Count  Dtype  \n",
      "---  ------             --------------  -----  \n",
      " 0   Request id         6745 non-null   int64  \n",
      " 1   Pickup point       6745 non-null   object \n",
      " 2   Driver id          4095 non-null   float64\n",
      " 3   Status             6745 non-null   object \n",
      " 4   Request timestamp  6745 non-null   object \n",
      " 5   Drop timestamp     2831 non-null   object \n",
      "dtypes: float64(1), int64(1), object(4)\n",
      "memory usage: 316.3+ KB\n"
     ]
    }
   ],
   "source": [
    "df.info()"
   ]
  },
  {
   "cell_type": "markdown",
   "id": "07679bb1",
   "metadata": {
    "papermill": {
     "duration": 0.00602,
     "end_time": "2024-02-12T12:59:05.790724",
     "exception": false,
     "start_time": "2024-02-12T12:59:05.784704",
     "status": "completed"
    },
    "tags": []
   },
   "source": [
    "we have 6 columns : one column from them is integer and one is float and 4 is objects and we have 6745 rows"
   ]
  },
  {
   "cell_type": "code",
   "execution_count": 6,
   "id": "a1b83494",
   "metadata": {
    "execution": {
     "iopub.execute_input": "2024-02-12T12:59:05.804948Z",
     "iopub.status.busy": "2024-02-12T12:59:05.804568Z",
     "iopub.status.idle": "2024-02-12T12:59:10.312422Z",
     "shell.execute_reply": "2024-02-12T12:59:10.311553Z"
    },
    "papermill": {
     "duration": 4.517455,
     "end_time": "2024-02-12T12:59:10.314612",
     "exception": false,
     "start_time": "2024-02-12T12:59:05.797157",
     "status": "completed"
    },
    "tags": []
   },
   "outputs": [
    {
     "name": "stderr",
     "output_type": "stream",
     "text": [
      "/tmp/ipykernel_18/1051153114.py:3: UserWarning: Parsing dates in %d-%m-%Y %H:%M:%S format when dayfirst=False (the default) was specified. Pass `dayfirst=True` or specify a format to silence this warning.\n",
      "  df[\"Request timestamp\"] = df[\"Request timestamp\"].apply(lambda x: pd.to_datetime(x))\n",
      "/tmp/ipykernel_18/1051153114.py:5: UserWarning: Parsing dates in %d-%m-%Y %H:%M:%S format when dayfirst=False (the default) was specified. Pass `dayfirst=True` or specify a format to silence this warning.\n",
      "  df[\"Drop timestamp\"] = df[\"Drop timestamp\"].apply(lambda x: pd.to_datetime(x))\n"
     ]
    }
   ],
   "source": [
    "#Converting Request_timestamp and drop_timestamp to uniform datetime format\n",
    "\n",
    "df[\"Request timestamp\"] = df[\"Request timestamp\"].apply(lambda x: pd.to_datetime(x))\n",
    "\n",
    "df[\"Drop timestamp\"] = df[\"Drop timestamp\"].apply(lambda x: pd.to_datetime(x))"
   ]
  },
  {
   "cell_type": "code",
   "execution_count": 7,
   "id": "9ab403ae",
   "metadata": {
    "execution": {
     "iopub.execute_input": "2024-02-12T12:59:10.331161Z",
     "iopub.status.busy": "2024-02-12T12:59:10.330743Z",
     "iopub.status.idle": "2024-02-12T12:59:10.342812Z",
     "shell.execute_reply": "2024-02-12T12:59:10.340342Z"
    },
    "papermill": {
     "duration": 0.023134,
     "end_time": "2024-02-12T12:59:10.345831",
     "exception": false,
     "start_time": "2024-02-12T12:59:10.322697",
     "status": "completed"
    },
    "tags": []
   },
   "outputs": [
    {
     "name": "stdout",
     "output_type": "stream",
     "text": [
      "<class 'pandas.core.frame.DataFrame'>\n",
      "RangeIndex: 6745 entries, 0 to 6744\n",
      "Data columns (total 6 columns):\n",
      " #   Column             Non-Null Count  Dtype         \n",
      "---  ------             --------------  -----         \n",
      " 0   Request id         6745 non-null   int64         \n",
      " 1   Pickup point       6745 non-null   object        \n",
      " 2   Driver id          4095 non-null   float64       \n",
      " 3   Status             6745 non-null   object        \n",
      " 4   Request timestamp  6745 non-null   datetime64[ns]\n",
      " 5   Drop timestamp     2831 non-null   datetime64[ns]\n",
      "dtypes: datetime64[ns](2), float64(1), int64(1), object(2)\n",
      "memory usage: 316.3+ KB\n"
     ]
    }
   ],
   "source": [
    "df.info()"
   ]
  },
  {
   "cell_type": "code",
   "execution_count": 8,
   "id": "0106e7f5",
   "metadata": {
    "execution": {
     "iopub.execute_input": "2024-02-12T12:59:10.362515Z",
     "iopub.status.busy": "2024-02-12T12:59:10.362110Z",
     "iopub.status.idle": "2024-02-12T12:59:10.387176Z",
     "shell.execute_reply": "2024-02-12T12:59:10.386476Z"
    },
    "papermill": {
     "duration": 0.035355,
     "end_time": "2024-02-12T12:59:10.389232",
     "exception": false,
     "start_time": "2024-02-12T12:59:10.353877",
     "status": "completed"
    },
    "tags": []
   },
   "outputs": [
    {
     "data": {
      "text/html": [
       "<div>\n",
       "<style scoped>\n",
       "    .dataframe tbody tr th:only-of-type {\n",
       "        vertical-align: middle;\n",
       "    }\n",
       "\n",
       "    .dataframe tbody tr th {\n",
       "        vertical-align: top;\n",
       "    }\n",
       "\n",
       "    .dataframe thead th {\n",
       "        text-align: right;\n",
       "    }\n",
       "</style>\n",
       "<table border=\"1\" class=\"dataframe\">\n",
       "  <thead>\n",
       "    <tr style=\"text-align: right;\">\n",
       "      <th></th>\n",
       "      <th>Request id</th>\n",
       "      <th>Driver id</th>\n",
       "      <th>Request timestamp</th>\n",
       "      <th>Drop timestamp</th>\n",
       "    </tr>\n",
       "  </thead>\n",
       "  <tbody>\n",
       "    <tr>\n",
       "      <th>count</th>\n",
       "      <td>6745.000000</td>\n",
       "      <td>4095.000000</td>\n",
       "      <td>6745</td>\n",
       "      <td>2831</td>\n",
       "    </tr>\n",
       "    <tr>\n",
       "      <th>mean</th>\n",
       "      <td>3384.644922</td>\n",
       "      <td>149.501343</td>\n",
       "      <td>2016-09-04 08:49:18.446849536</td>\n",
       "      <td>2016-09-05 17:03:26.523843072</td>\n",
       "    </tr>\n",
       "    <tr>\n",
       "      <th>min</th>\n",
       "      <td>1.000000</td>\n",
       "      <td>1.000000</td>\n",
       "      <td>2016-07-13 00:00:24</td>\n",
       "      <td>2016-07-13 00:01:12</td>\n",
       "    </tr>\n",
       "    <tr>\n",
       "      <th>25%</th>\n",
       "      <td>1691.000000</td>\n",
       "      <td>75.000000</td>\n",
       "      <td>2016-07-14 07:38:26</td>\n",
       "      <td>2016-07-14 08:10:24.500000</td>\n",
       "    </tr>\n",
       "    <tr>\n",
       "      <th>50%</th>\n",
       "      <td>3387.000000</td>\n",
       "      <td>149.000000</td>\n",
       "      <td>2016-07-15 13:44:15</td>\n",
       "      <td>2016-07-15 15:27:41</td>\n",
       "    </tr>\n",
       "    <tr>\n",
       "      <th>75%</th>\n",
       "      <td>5080.000000</td>\n",
       "      <td>224.000000</td>\n",
       "      <td>2016-11-07 19:00:00</td>\n",
       "      <td>2016-11-07 19:25:30</td>\n",
       "    </tr>\n",
       "    <tr>\n",
       "      <th>max</th>\n",
       "      <td>6766.000000</td>\n",
       "      <td>300.000000</td>\n",
       "      <td>2016-12-07 23:54:00</td>\n",
       "      <td>2016-12-07 23:45:00</td>\n",
       "    </tr>\n",
       "    <tr>\n",
       "      <th>std</th>\n",
       "      <td>1955.099667</td>\n",
       "      <td>86.051994</td>\n",
       "      <td>NaN</td>\n",
       "      <td>NaN</td>\n",
       "    </tr>\n",
       "  </tbody>\n",
       "</table>\n",
       "</div>"
      ],
      "text/plain": [
       "        Request id    Driver id              Request timestamp  \\\n",
       "count  6745.000000  4095.000000                           6745   \n",
       "mean   3384.644922   149.501343  2016-09-04 08:49:18.446849536   \n",
       "min       1.000000     1.000000            2016-07-13 00:00:24   \n",
       "25%    1691.000000    75.000000            2016-07-14 07:38:26   \n",
       "50%    3387.000000   149.000000            2016-07-15 13:44:15   \n",
       "75%    5080.000000   224.000000            2016-11-07 19:00:00   \n",
       "max    6766.000000   300.000000            2016-12-07 23:54:00   \n",
       "std    1955.099667    86.051994                            NaN   \n",
       "\n",
       "                      Drop timestamp  \n",
       "count                           2831  \n",
       "mean   2016-09-05 17:03:26.523843072  \n",
       "min              2016-07-13 00:01:12  \n",
       "25%       2016-07-14 08:10:24.500000  \n",
       "50%              2016-07-15 15:27:41  \n",
       "75%              2016-11-07 19:25:30  \n",
       "max              2016-12-07 23:45:00  \n",
       "std                              NaN  "
      ]
     },
     "execution_count": 8,
     "metadata": {},
     "output_type": "execute_result"
    }
   ],
   "source": [
    "df.describe()"
   ]
  },
  {
   "cell_type": "code",
   "execution_count": 9,
   "id": "76df79d1",
   "metadata": {
    "execution": {
     "iopub.execute_input": "2024-02-12T12:59:10.404653Z",
     "iopub.status.busy": "2024-02-12T12:59:10.404245Z",
     "iopub.status.idle": "2024-02-12T12:59:10.413162Z",
     "shell.execute_reply": "2024-02-12T12:59:10.412216Z"
    },
    "papermill": {
     "duration": 0.018708,
     "end_time": "2024-02-12T12:59:10.414914",
     "exception": false,
     "start_time": "2024-02-12T12:59:10.396206",
     "status": "completed"
    },
    "tags": []
   },
   "outputs": [
    {
     "data": {
      "text/plain": [
       "False"
      ]
     },
     "execution_count": 9,
     "metadata": {},
     "output_type": "execute_result"
    }
   ],
   "source": [
    "# checking if there are any duplicate rows in the DataFrame\n",
    "df.duplicated().any()"
   ]
  },
  {
   "cell_type": "markdown",
   "id": "23abd4c0",
   "metadata": {
    "papermill": {
     "duration": 0.007829,
     "end_time": "2024-02-12T12:59:10.430373",
     "exception": false,
     "start_time": "2024-02-12T12:59:10.422544",
     "status": "completed"
    },
    "tags": []
   },
   "source": [
    "there aren't any duplicate rows in the DataFrame"
   ]
  },
  {
   "cell_type": "code",
   "execution_count": 10,
   "id": "0ed29293",
   "metadata": {
    "execution": {
     "iopub.execute_input": "2024-02-12T12:59:10.445117Z",
     "iopub.status.busy": "2024-02-12T12:59:10.444820Z",
     "iopub.status.idle": "2024-02-12T12:59:10.453787Z",
     "shell.execute_reply": "2024-02-12T12:59:10.452868Z"
    },
    "papermill": {
     "duration": 0.018419,
     "end_time": "2024-02-12T12:59:10.455518",
     "exception": false,
     "start_time": "2024-02-12T12:59:10.437099",
     "status": "completed"
    },
    "tags": []
   },
   "outputs": [
    {
     "data": {
      "text/plain": [
       "Driver id         2650\n",
       "Drop timestamp    3914\n",
       "dtype: int64"
      ]
     },
     "execution_count": 10,
     "metadata": {},
     "output_type": "execute_result"
    }
   ],
   "source": [
    "# checking for the null values\n",
    "df[df.columns[df.isnull().any()]].isnull().sum()"
   ]
  },
  {
   "cell_type": "code",
   "execution_count": 11,
   "id": "e0f1ccb0",
   "metadata": {
    "execution": {
     "iopub.execute_input": "2024-02-12T12:59:10.470968Z",
     "iopub.status.busy": "2024-02-12T12:59:10.470489Z",
     "iopub.status.idle": "2024-02-12T12:59:10.482518Z",
     "shell.execute_reply": "2024-02-12T12:59:10.481332Z"
    },
    "papermill": {
     "duration": 0.022166,
     "end_time": "2024-02-12T12:59:10.484641",
     "exception": false,
     "start_time": "2024-02-12T12:59:10.462475",
     "status": "completed"
    },
    "tags": []
   },
   "outputs": [
    {
     "data": {
      "text/html": [
       "<div>\n",
       "<style scoped>\n",
       "    .dataframe tbody tr th:only-of-type {\n",
       "        vertical-align: middle;\n",
       "    }\n",
       "\n",
       "    .dataframe tbody tr th {\n",
       "        vertical-align: top;\n",
       "    }\n",
       "\n",
       "    .dataframe thead th {\n",
       "        text-align: right;\n",
       "    }\n",
       "</style>\n",
       "<table border=\"1\" class=\"dataframe\">\n",
       "  <thead>\n",
       "    <tr style=\"text-align: right;\">\n",
       "      <th></th>\n",
       "      <th>Request id</th>\n",
       "      <th>Pickup point</th>\n",
       "      <th>Driver id</th>\n",
       "      <th>Status</th>\n",
       "      <th>Request timestamp</th>\n",
       "      <th>Drop timestamp</th>\n",
       "      <th>Request hour</th>\n",
       "    </tr>\n",
       "  </thead>\n",
       "  <tbody>\n",
       "    <tr>\n",
       "      <th>0</th>\n",
       "      <td>619</td>\n",
       "      <td>Airport</td>\n",
       "      <td>1.0</td>\n",
       "      <td>Trip Completed</td>\n",
       "      <td>2016-11-07 11:51:00</td>\n",
       "      <td>2016-11-07 13:00:00</td>\n",
       "      <td>11</td>\n",
       "    </tr>\n",
       "    <tr>\n",
       "      <th>1</th>\n",
       "      <td>867</td>\n",
       "      <td>Airport</td>\n",
       "      <td>1.0</td>\n",
       "      <td>Trip Completed</td>\n",
       "      <td>2016-11-07 17:57:00</td>\n",
       "      <td>2016-11-07 18:47:00</td>\n",
       "      <td>17</td>\n",
       "    </tr>\n",
       "    <tr>\n",
       "      <th>2</th>\n",
       "      <td>1807</td>\n",
       "      <td>City</td>\n",
       "      <td>1.0</td>\n",
       "      <td>Trip Completed</td>\n",
       "      <td>2016-12-07 09:17:00</td>\n",
       "      <td>2016-12-07 09:58:00</td>\n",
       "      <td>9</td>\n",
       "    </tr>\n",
       "    <tr>\n",
       "      <th>3</th>\n",
       "      <td>2532</td>\n",
       "      <td>Airport</td>\n",
       "      <td>1.0</td>\n",
       "      <td>Trip Completed</td>\n",
       "      <td>2016-12-07 21:08:00</td>\n",
       "      <td>2016-12-07 22:03:00</td>\n",
       "      <td>21</td>\n",
       "    </tr>\n",
       "    <tr>\n",
       "      <th>4</th>\n",
       "      <td>3112</td>\n",
       "      <td>City</td>\n",
       "      <td>1.0</td>\n",
       "      <td>Trip Completed</td>\n",
       "      <td>2016-07-13 08:33:16</td>\n",
       "      <td>2016-07-13 09:25:47</td>\n",
       "      <td>8</td>\n",
       "    </tr>\n",
       "  </tbody>\n",
       "</table>\n",
       "</div>"
      ],
      "text/plain": [
       "   Request id Pickup point  Driver id          Status   Request timestamp  \\\n",
       "0         619      Airport        1.0  Trip Completed 2016-11-07 11:51:00   \n",
       "1         867      Airport        1.0  Trip Completed 2016-11-07 17:57:00   \n",
       "2        1807         City        1.0  Trip Completed 2016-12-07 09:17:00   \n",
       "3        2532      Airport        1.0  Trip Completed 2016-12-07 21:08:00   \n",
       "4        3112         City        1.0  Trip Completed 2016-07-13 08:33:16   \n",
       "\n",
       "       Drop timestamp  Request hour  \n",
       "0 2016-11-07 13:00:00            11  \n",
       "1 2016-11-07 18:47:00            17  \n",
       "2 2016-12-07 09:58:00             9  \n",
       "3 2016-12-07 22:03:00            21  \n",
       "4 2016-07-13 09:25:47             8  "
      ]
     },
     "execution_count": 11,
     "metadata": {},
     "output_type": "execute_result"
    }
   ],
   "source": [
    "#Extract the hour from requested timestamp\n",
    "df[\"Request hour\"] = df[\"Request timestamp\"].dt.hour\n",
    "df.head()\n"
   ]
  },
  {
   "cell_type": "code",
   "execution_count": 12,
   "id": "4487f171",
   "metadata": {
    "execution": {
     "iopub.execute_input": "2024-02-12T12:59:10.500951Z",
     "iopub.status.busy": "2024-02-12T12:59:10.500497Z",
     "iopub.status.idle": "2024-02-12T12:59:10.690766Z",
     "shell.execute_reply": "2024-02-12T12:59:10.689322Z"
    },
    "papermill": {
     "duration": 0.200705,
     "end_time": "2024-02-12T12:59:10.692903",
     "exception": false,
     "start_time": "2024-02-12T12:59:10.492198",
     "status": "completed"
    },
    "tags": []
   },
   "outputs": [
    {
     "data": {
      "image/png": "[encoded data removed]",
      "text/plain": [
       "<Figure size 640x480 with 1 Axes>"
      ]
     },
     "metadata": {},
     "output_type": "display_data"
    }
   ],
   "source": [
    "plt.hist(df[\"Request hour\"],edgecolor='black',bins=24)\n",
    "plt.xlabel(\"Request hour\")\n",
    "plt.ylabel(\"No. of Requests\")\n",
    "plt.show()"
   ]
  },
  {
   "cell_type": "markdown",
   "id": "5bd24004",
   "metadata": {
    "papermill": {
     "duration": 0.007035,
     "end_time": "2024-02-12T12:59:10.707496",
     "exception": false,
     "start_time": "2024-02-12T12:59:10.700461",
     "status": "completed"
    },
    "tags": []
   },
   "source": [
    "Session details\n",
    "\n",
    "EARLY MORNING = Midnight to 5AM\n",
    "\n",
    "MORNING = 5AM to 10AM\n",
    "\n",
    " DAY  = 10AM to 5PM\n",
    "\n",
    "EVENING = 5PM to 10PM\n",
    "\n",
    " LATE NIGHT = 10PM TO Midnight"
   ]
  },
  {
   "cell_type": "code",
   "execution_count": 13,
   "id": "1a231a3a",
   "metadata": {
    "execution": {
     "iopub.execute_input": "2024-02-12T12:59:10.723321Z",
     "iopub.status.busy": "2024-02-12T12:59:10.722983Z",
     "iopub.status.idle": "2024-02-12T12:59:10.728259Z",
     "shell.execute_reply": "2024-02-12T12:59:10.727364Z"
    },
    "papermill": {
     "duration": 0.015186,
     "end_time": "2024-02-12T12:59:10.729777",
     "exception": false,
     "start_time": "2024-02-12T12:59:10.714591",
     "status": "completed"
    },
    "tags": []
   },
   "outputs": [],
   "source": [
    "#Divide the time of the day into five categories\n",
    "def time_period(x):\n",
    "    if x < 5:\n",
    "        return \"Early Morning\"\n",
    "    elif 5 <= x < 10:\n",
    "        return \"Morning\"\n",
    "    elif 10 <= x < 17:\n",
    "        return \"Day Time\"\n",
    "    elif 17 <= x < 22:\n",
    "        return \"Evening\"\n",
    "    else:\n",
    "        return \"Late Night\""
   ]
  },
  {
   "cell_type": "code",
   "execution_count": 14,
   "id": "0d06859c",
   "metadata": {
    "execution": {
     "iopub.execute_input": "2024-02-12T12:59:10.745884Z",
     "iopub.status.busy": "2024-02-12T12:59:10.745568Z",
     "iopub.status.idle": "2024-02-12T12:59:10.760483Z",
     "shell.execute_reply": "2024-02-12T12:59:10.759372Z"
    },
    "papermill": {
     "duration": 0.025165,
     "end_time": "2024-02-12T12:59:10.762291",
     "exception": false,
     "start_time": "2024-02-12T12:59:10.737126",
     "status": "completed"
    },
    "tags": []
   },
   "outputs": [
    {
     "data": {
      "text/html": [
       "<div>\n",
       "<style scoped>\n",
       "    .dataframe tbody tr th:only-of-type {\n",
       "        vertical-align: middle;\n",
       "    }\n",
       "\n",
       "    .dataframe tbody tr th {\n",
       "        vertical-align: top;\n",
       "    }\n",
       "\n",
       "    .dataframe thead th {\n",
       "        text-align: right;\n",
       "    }\n",
       "</style>\n",
       "<table border=\"1\" class=\"dataframe\">\n",
       "  <thead>\n",
       "    <tr style=\"text-align: right;\">\n",
       "      <th></th>\n",
       "      <th>Request id</th>\n",
       "      <th>Pickup point</th>\n",
       "      <th>Driver id</th>\n",
       "      <th>Status</th>\n",
       "      <th>Request timestamp</th>\n",
       "      <th>Drop timestamp</th>\n",
       "      <th>Request hour</th>\n",
       "      <th>Time period</th>\n",
       "    </tr>\n",
       "  </thead>\n",
       "  <tbody>\n",
       "    <tr>\n",
       "      <th>0</th>\n",
       "      <td>619</td>\n",
       "      <td>Airport</td>\n",
       "      <td>1.0</td>\n",
       "      <td>Trip Completed</td>\n",
       "      <td>2016-11-07 11:51:00</td>\n",
       "      <td>2016-11-07 13:00:00</td>\n",
       "      <td>11</td>\n",
       "      <td>Day Time</td>\n",
       "    </tr>\n",
       "    <tr>\n",
       "      <th>1</th>\n",
       "      <td>867</td>\n",
       "      <td>Airport</td>\n",
       "      <td>1.0</td>\n",
       "      <td>Trip Completed</td>\n",
       "      <td>2016-11-07 17:57:00</td>\n",
       "      <td>2016-11-07 18:47:00</td>\n",
       "      <td>17</td>\n",
       "      <td>Evening</td>\n",
       "    </tr>\n",
       "    <tr>\n",
       "      <th>2</th>\n",
       "      <td>1807</td>\n",
       "      <td>City</td>\n",
       "      <td>1.0</td>\n",
       "      <td>Trip Completed</td>\n",
       "      <td>2016-12-07 09:17:00</td>\n",
       "      <td>2016-12-07 09:58:00</td>\n",
       "      <td>9</td>\n",
       "      <td>Morning</td>\n",
       "    </tr>\n",
       "    <tr>\n",
       "      <th>3</th>\n",
       "      <td>2532</td>\n",
       "      <td>Airport</td>\n",
       "      <td>1.0</td>\n",
       "      <td>Trip Completed</td>\n",
       "      <td>2016-12-07 21:08:00</td>\n",
       "      <td>2016-12-07 22:03:00</td>\n",
       "      <td>21</td>\n",
       "      <td>Evening</td>\n",
       "    </tr>\n",
       "    <tr>\n",
       "      <th>4</th>\n",
       "      <td>3112</td>\n",
       "      <td>City</td>\n",
       "      <td>1.0</td>\n",
       "      <td>Trip Completed</td>\n",
       "      <td>2016-07-13 08:33:16</td>\n",
       "      <td>2016-07-13 09:25:47</td>\n",
       "      <td>8</td>\n",
       "      <td>Morning</td>\n",
       "    </tr>\n",
       "  </tbody>\n",
       "</table>\n",
       "</div>"
      ],
      "text/plain": [
       "   Request id Pickup point  Driver id          Status   Request timestamp  \\\n",
       "0         619      Airport        1.0  Trip Completed 2016-11-07 11:51:00   \n",
       "1         867      Airport        1.0  Trip Completed 2016-11-07 17:57:00   \n",
       "2        1807         City        1.0  Trip Completed 2016-12-07 09:17:00   \n",
       "3        2532      Airport        1.0  Trip Completed 2016-12-07 21:08:00   \n",
       "4        3112         City        1.0  Trip Completed 2016-07-13 08:33:16   \n",
       "\n",
       "       Drop timestamp  Request hour Time period  \n",
       "0 2016-11-07 13:00:00            11    Day Time  \n",
       "1 2016-11-07 18:47:00            17     Evening  \n",
       "2 2016-12-07 09:58:00             9     Morning  \n",
       "3 2016-12-07 22:03:00            21     Evening  \n",
       "4 2016-07-13 09:25:47             8     Morning  "
      ]
     },
     "execution_count": 14,
     "metadata": {},
     "output_type": "execute_result"
    }
   ],
   "source": [
    "df['Time period'] = df['Request hour'].apply(lambda x: time_period(x))\n",
    "df.head()"
   ]
  },
  {
   "cell_type": "code",
   "execution_count": 15,
   "id": "8408c314",
   "metadata": {
    "execution": {
     "iopub.execute_input": "2024-02-12T12:59:10.778152Z",
     "iopub.status.busy": "2024-02-12T12:59:10.777887Z",
     "iopub.status.idle": "2024-02-12T12:59:10.785410Z",
     "shell.execute_reply": "2024-02-12T12:59:10.784498Z"
    },
    "papermill": {
     "duration": 0.017439,
     "end_time": "2024-02-12T12:59:10.787197",
     "exception": false,
     "start_time": "2024-02-12T12:59:10.769758",
     "status": "completed"
    },
    "tags": []
   },
   "outputs": [
    {
     "data": {
      "text/plain": [
       "Time period\n",
       "Evening          2342\n",
       "Morning          2103\n",
       "Day Time         1224\n",
       "Early Morning     578\n",
       "Late Night        498\n",
       "Name: count, dtype: int64"
      ]
     },
     "execution_count": 15,
     "metadata": {},
     "output_type": "execute_result"
    }
   ],
   "source": [
    "df['Time period'].value_counts()"
   ]
  },
  {
   "cell_type": "code",
   "execution_count": 16,
   "id": "133d573e",
   "metadata": {
    "execution": {
     "iopub.execute_input": "2024-02-12T12:59:10.803721Z",
     "iopub.status.busy": "2024-02-12T12:59:10.803426Z",
     "iopub.status.idle": "2024-02-12T12:59:10.938460Z",
     "shell.execute_reply": "2024-02-12T12:59:10.937552Z"
    },
    "papermill": {
     "duration": 0.145633,
     "end_time": "2024-02-12T12:59:10.940357",
     "exception": false,
     "start_time": "2024-02-12T12:59:10.794724",
     "status": "completed"
    },
    "tags": []
   },
   "outputs": [
    {
     "data": {
      "image/png": "[encoded data removed]",
      "text/plain": [
       "<Figure size 640x480 with 1 Axes>"
      ]
     },
     "metadata": {},
     "output_type": "display_data"
    }
   ],
   "source": [
    "df['Time period'].value_counts().plot.bar()\n",
    "plt.show()"
   ]
  },
  {
   "cell_type": "markdown",
   "id": "707ea0dc",
   "metadata": {
    "papermill": {
     "duration": 0.007503,
     "end_time": "2024-02-12T12:59:10.955883",
     "exception": false,
     "start_time": "2024-02-12T12:59:10.948380",
     "status": "completed"
    },
    "tags": []
   },
   "source": [
    "**from the above plot , the requests is more in the Evening and we need to increase the number of drivers in the Evening hours from 5 PM to 10 PM**"
   ]
  },
  {
   "cell_type": "code",
   "execution_count": 17,
   "id": "2b5c46b8",
   "metadata": {
    "execution": {
     "iopub.execute_input": "2024-02-12T12:59:10.973159Z",
     "iopub.status.busy": "2024-02-12T12:59:10.972855Z",
     "iopub.status.idle": "2024-02-12T12:59:10.989298Z",
     "shell.execute_reply": "2024-02-12T12:59:10.988344Z"
    },
    "papermill": {
     "duration": 0.02717,
     "end_time": "2024-02-12T12:59:10.991124",
     "exception": false,
     "start_time": "2024-02-12T12:59:10.963954",
     "status": "completed"
    },
    "tags": []
   },
   "outputs": [
    {
     "data": {
      "text/html": [
       "<div>\n",
       "<style scoped>\n",
       "    .dataframe tbody tr th:only-of-type {\n",
       "        vertical-align: middle;\n",
       "    }\n",
       "\n",
       "    .dataframe tbody tr th {\n",
       "        vertical-align: top;\n",
       "    }\n",
       "\n",
       "    .dataframe thead th {\n",
       "        text-align: right;\n",
       "    }\n",
       "</style>\n",
       "<table border=\"1\" class=\"dataframe\">\n",
       "  <thead>\n",
       "    <tr style=\"text-align: right;\">\n",
       "      <th></th>\n",
       "      <th>Request id</th>\n",
       "      <th>Pickup point</th>\n",
       "      <th>Driver id</th>\n",
       "      <th>Status</th>\n",
       "      <th>Request timestamp</th>\n",
       "      <th>Drop timestamp</th>\n",
       "      <th>Request hour</th>\n",
       "      <th>Time period</th>\n",
       "      <th>Day</th>\n",
       "    </tr>\n",
       "  </thead>\n",
       "  <tbody>\n",
       "    <tr>\n",
       "      <th>0</th>\n",
       "      <td>619</td>\n",
       "      <td>Airport</td>\n",
       "      <td>1.0</td>\n",
       "      <td>Trip Completed</td>\n",
       "      <td>2016-11-07 11:51:00</td>\n",
       "      <td>2016-11-07 13:00:00</td>\n",
       "      <td>11</td>\n",
       "      <td>Day Time</td>\n",
       "      <td>Monday</td>\n",
       "    </tr>\n",
       "    <tr>\n",
       "      <th>1</th>\n",
       "      <td>867</td>\n",
       "      <td>Airport</td>\n",
       "      <td>1.0</td>\n",
       "      <td>Trip Completed</td>\n",
       "      <td>2016-11-07 17:57:00</td>\n",
       "      <td>2016-11-07 18:47:00</td>\n",
       "      <td>17</td>\n",
       "      <td>Evening</td>\n",
       "      <td>Monday</td>\n",
       "    </tr>\n",
       "    <tr>\n",
       "      <th>2</th>\n",
       "      <td>1807</td>\n",
       "      <td>City</td>\n",
       "      <td>1.0</td>\n",
       "      <td>Trip Completed</td>\n",
       "      <td>2016-12-07 09:17:00</td>\n",
       "      <td>2016-12-07 09:58:00</td>\n",
       "      <td>9</td>\n",
       "      <td>Morning</td>\n",
       "      <td>Wednesday</td>\n",
       "    </tr>\n",
       "    <tr>\n",
       "      <th>3</th>\n",
       "      <td>2532</td>\n",
       "      <td>Airport</td>\n",
       "      <td>1.0</td>\n",
       "      <td>Trip Completed</td>\n",
       "      <td>2016-12-07 21:08:00</td>\n",
       "      <td>2016-12-07 22:03:00</td>\n",
       "      <td>21</td>\n",
       "      <td>Evening</td>\n",
       "      <td>Wednesday</td>\n",
       "    </tr>\n",
       "    <tr>\n",
       "      <th>4</th>\n",
       "      <td>3112</td>\n",
       "      <td>City</td>\n",
       "      <td>1.0</td>\n",
       "      <td>Trip Completed</td>\n",
       "      <td>2016-07-13 08:33:16</td>\n",
       "      <td>2016-07-13 09:25:47</td>\n",
       "      <td>8</td>\n",
       "      <td>Morning</td>\n",
       "      <td>Wednesday</td>\n",
       "    </tr>\n",
       "  </tbody>\n",
       "</table>\n",
       "</div>"
      ],
      "text/plain": [
       "   Request id Pickup point  Driver id          Status   Request timestamp  \\\n",
       "0         619      Airport        1.0  Trip Completed 2016-11-07 11:51:00   \n",
       "1         867      Airport        1.0  Trip Completed 2016-11-07 17:57:00   \n",
       "2        1807         City        1.0  Trip Completed 2016-12-07 09:17:00   \n",
       "3        2532      Airport        1.0  Trip Completed 2016-12-07 21:08:00   \n",
       "4        3112         City        1.0  Trip Completed 2016-07-13 08:33:16   \n",
       "\n",
       "       Drop timestamp  Request hour Time period        Day  \n",
       "0 2016-11-07 13:00:00            11    Day Time     Monday  \n",
       "1 2016-11-07 18:47:00            17     Evening     Monday  \n",
       "2 2016-12-07 09:58:00             9     Morning  Wednesday  \n",
       "3 2016-12-07 22:03:00            21     Evening  Wednesday  \n",
       "4 2016-07-13 09:25:47             8     Morning  Wednesday  "
      ]
     },
     "execution_count": 17,
     "metadata": {},
     "output_type": "execute_result"
    }
   ],
   "source": [
    "# Extract the day from requested timestamp\n",
    "df['Day'] = df['Request timestamp'].dt.day_name()\n",
    "df.head()"
   ]
  },
  {
   "cell_type": "code",
   "execution_count": 18,
   "id": "4cd42312",
   "metadata": {
    "execution": {
     "iopub.execute_input": "2024-02-12T12:59:11.008784Z",
     "iopub.status.busy": "2024-02-12T12:59:11.008410Z",
     "iopub.status.idle": "2024-02-12T12:59:11.016724Z",
     "shell.execute_reply": "2024-02-12T12:59:11.015748Z"
    },
    "papermill": {
     "duration": 0.020009,
     "end_time": "2024-02-12T12:59:11.019170",
     "exception": false,
     "start_time": "2024-02-12T12:59:10.999161",
     "status": "completed"
    },
    "tags": []
   },
   "outputs": [
    {
     "data": {
      "text/plain": [
       "Day\n",
       "Wednesday    2644\n",
       "Friday       1381\n",
       "Monday       1367\n",
       "Thursday     1353\n",
       "Name: count, dtype: int64"
      ]
     },
     "execution_count": 18,
     "metadata": {},
     "output_type": "execute_result"
    }
   ],
   "source": [
    "df['Day'].value_counts()"
   ]
  },
  {
   "cell_type": "code",
   "execution_count": 19,
   "id": "dc038bdd",
   "metadata": {
    "execution": {
     "iopub.execute_input": "2024-02-12T12:59:11.037094Z",
     "iopub.status.busy": "2024-02-12T12:59:11.036761Z",
     "iopub.status.idle": "2024-02-12T12:59:11.206561Z",
     "shell.execute_reply": "2024-02-12T12:59:11.204749Z"
    },
    "papermill": {
     "duration": 0.181757,
     "end_time": "2024-02-12T12:59:11.209314",
     "exception": false,
     "start_time": "2024-02-12T12:59:11.027557",
     "status": "completed"
    },
    "tags": []
   },
   "outputs": [
    {
     "data": {
      "text/plain": [
       "Text(0.5, 1.0, 'Day distrbution')"
      ]
     },
     "execution_count": 19,
     "metadata": {},
     "output_type": "execute_result"
    },
    {
     "data": {
      "image/png": "[encoded data removed]",
      "text/plain": [
       "<Figure size 640x480 with 1 Axes>"
      ]
     },
     "metadata": {},
     "output_type": "display_data"
    }
   ],
   "source": [
    "# countplot to show day disrbution\n",
    "sns.countplot(x=\"Day\",data=df)\n",
    "plt.xlabel(\"Day\")\n",
    "plt.ylabel(\"Count\")\n",
    "plt.title(\"Day distrbution\")"
   ]
  },
  {
   "cell_type": "markdown",
   "id": "79a2f641",
   "metadata": {
    "papermill": {
     "duration": 0.008124,
     "end_time": "2024-02-12T12:59:11.226543",
     "exception": false,
     "start_time": "2024-02-12T12:59:11.218419",
     "status": "completed"
    },
    "tags": []
   },
   "source": [
    "\n",
    "**from the above plot , the requests is more on wednesday so we need to increase the number of availabe drivers in this day**"
   ]
  },
  {
   "cell_type": "markdown",
   "id": "28f74fe8",
   "metadata": {
    "papermill": {
     "duration": 0.008549,
     "end_time": "2024-02-12T12:59:11.243321",
     "exception": false,
     "start_time": "2024-02-12T12:59:11.234772",
     "status": "completed"
    },
    "tags": []
   },
   "source": [
    "# What is the Distribiution of Pickup point ?"
   ]
  },
  {
   "cell_type": "code",
   "execution_count": 20,
   "id": "ab00333f",
   "metadata": {
    "execution": {
     "iopub.execute_input": "2024-02-12T12:59:11.261215Z",
     "iopub.status.busy": "2024-02-12T12:59:11.260926Z",
     "iopub.status.idle": "2024-02-12T12:59:11.358064Z",
     "shell.execute_reply": "2024-02-12T12:59:11.357170Z"
    },
    "papermill": {
     "duration": 0.108316,
     "end_time": "2024-02-12T12:59:11.359916",
     "exception": false,
     "start_time": "2024-02-12T12:59:11.251600",
     "status": "completed"
    },
    "tags": []
   },
   "outputs": [
    {
     "data": {
      "text/plain": [
       "<Axes: ylabel='count'>"
      ]
     },
     "execution_count": 20,
     "metadata": {},
     "output_type": "execute_result"
    },
    {
     "data": {
      "image/png": "[encoded data removed]",
      "text/plain": [
       "<Figure size 640x480 with 1 Axes>"
      ]
     },
     "metadata": {},
     "output_type": "display_data"
    }
   ],
   "source": [
    "(df['Pickup point'].value_counts()/df.shape[0]*100).plot.pie(autopct=\"%1.1f%%\")"
   ]
  },
  {
   "cell_type": "markdown",
   "id": "82f3a9a7",
   "metadata": {
    "papermill": {
     "duration": 0.008815,
     "end_time": "2024-02-12T12:59:11.377664",
     "exception": false,
     "start_time": "2024-02-12T12:59:11.368849",
     "status": "completed"
    },
    "tags": []
   },
   "source": [
    "**We find in the city there are more requests than the airport**"
   ]
  },
  {
   "cell_type": "markdown",
   "id": "74483ea0",
   "metadata": {
    "papermill": {
     "duration": 0.009033,
     "end_time": "2024-02-12T12:59:11.395668",
     "exception": false,
     "start_time": "2024-02-12T12:59:11.386635",
     "status": "completed"
    },
    "tags": []
   },
   "source": [
    "# What is the Distribiution of Staus of requests ?"
   ]
  },
  {
   "cell_type": "code",
   "execution_count": 21,
   "id": "b6d85ae0",
   "metadata": {
    "execution": {
     "iopub.execute_input": "2024-02-12T12:59:11.414938Z",
     "iopub.status.busy": "2024-02-12T12:59:11.414617Z",
     "iopub.status.idle": "2024-02-12T12:59:11.576618Z",
     "shell.execute_reply": "2024-02-12T12:59:11.575739Z"
    },
    "papermill": {
     "duration": 0.174321,
     "end_time": "2024-02-12T12:59:11.578970",
     "exception": false,
     "start_time": "2024-02-12T12:59:11.404649",
     "status": "completed"
    },
    "tags": []
   },
   "outputs": [
    {
     "data": {
      "text/plain": [
       "Text(0.5, 1.0, 'Status distrbution')"
      ]
     },
     "execution_count": 21,
     "metadata": {},
     "output_type": "execute_result"
    },
    {
     "data": {
      "image/png": "[encoded data removed]",
      "text/plain": [
       "<Figure size 640x480 with 1 Axes>"
      ]
     },
     "metadata": {},
     "output_type": "display_data"
    }
   ],
   "source": [
    "sns.countplot(x=\"Status\",data=df)\n",
    "plt.xlabel(\"Status\")\n",
    "plt.ylabel(\"Count\")\n",
    "plt.title(\"Status distrbution\")"
   ]
  },
  {
   "cell_type": "markdown",
   "id": "6fae0a03",
   "metadata": {
    "papermill": {
     "duration": 0.00909,
     "end_time": "2024-02-12T12:59:11.597459",
     "exception": false,
     "start_time": "2024-02-12T12:59:11.588369",
     "status": "completed"
    },
    "tags": []
   },
   "source": [
    "# Where we find more Cancelled Requests and no Cars Available in the city or at the airport ?"
   ]
  },
  {
   "cell_type": "code",
   "execution_count": 22,
   "id": "6d0cf0a8",
   "metadata": {
    "execution": {
     "iopub.execute_input": "2024-02-12T12:59:11.616781Z",
     "iopub.status.busy": "2024-02-12T12:59:11.616471Z",
     "iopub.status.idle": "2024-02-12T12:59:11.824729Z",
     "shell.execute_reply": "2024-02-12T12:59:11.823671Z"
    },
    "papermill": {
     "duration": 0.220266,
     "end_time": "2024-02-12T12:59:11.826595",
     "exception": false,
     "start_time": "2024-02-12T12:59:11.606329",
     "status": "completed"
    },
    "tags": []
   },
   "outputs": [
    {
     "data": {
      "image/png": "[encoded data removed]",
      "text/plain": [
       "<Figure size 1000x600 with 1 Axes>"
      ]
     },
     "metadata": {},
     "output_type": "display_data"
    }
   ],
   "source": [
    "plt.figure(figsize=(10, 6))\n",
    "sns.countplot(data=df, x=\"Status\", hue='Pickup point')\n",
    "plt.title(f'Relationship Between Status and Pickup point')\n",
    "plt.xlabel(\"Status\")\n",
    "plt.ylabel('Count')\n",
    "plt.xticks(rotation=50)\n",
    "plt.show()"
   ]
  },
  {
   "cell_type": "markdown",
   "id": "a02b8d87",
   "metadata": {
    "papermill": {
     "duration": 0.009107,
     "end_time": "2024-02-12T12:59:11.845488",
     "exception": false,
     "start_time": "2024-02-12T12:59:11.836381",
     "status": "completed"
    },
    "tags": []
   },
   "source": [
    "**We find there are many No cars Avaliable at the Airport and we should increse the number of drivers there**"
   ]
  }
 ],
 "metadata": {
  "kaggle": {
   "accelerator": "none",
   "dataSources": [
    {
     "datasetId": 78953,
     "sourceId": 182068,
     "sourceType": "datasetVersion"
    }
   ],
   "dockerImageVersionId": 30646,
   "isGpuEnabled": false,
   "isInternetEnabled": true,
   "language": "python",
   "sourceType": "notebook"
  },
  "kernelspec": {
   "display_name": "Python 3",
   "language": "python",
   "name": "python3"
  },
  "language_info": {
   "codemirror_mode": {
    "name": "ipython",
    "version": 3
   },
   "file_extension": ".py",
   "mimetype": "text/x-python",
   "name": "python",
   "nbconvert_exporter": "python",
   "pygments_lexer": "ipython3",
   "version": "3.10.13"
  },
  "papermill": {
   "default_parameters": {},
   "duration": 10.991473,
   "end_time": "2024-02-12T12:59:12.374979",
   "environment_variables": {},
   "exception": null,
   "input_path": "__notebook__.ipynb",
   "output_path": "__notebook__.ipynb",
   "parameters": {},
   "start_time": "2024-02-12T12:59:01.383506",
   "version": "2.5.0"
  }
 },
 "nbformat": 4,
 "nbformat_minor": 5
}
